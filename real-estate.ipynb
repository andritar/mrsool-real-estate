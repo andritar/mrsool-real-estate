{
 "cells": [
  {
   "cell_type": "code",
   "execution_count": 1,
   "id": "cc47d69b",
   "metadata": {},
   "outputs": [
    {
     "name": "stderr",
     "output_type": "stream",
     "text": [
      "/Users/taras/opt/anaconda3/lib/python3.8/site-packages/xgboost/compat.py:31: FutureWarning: pandas.Int64Index is deprecated and will be removed from pandas in a future version. Use pandas.Index with the appropriate dtype instead.\n",
      "  from pandas import MultiIndex, Int64Index\n"
     ]
    }
   ],
   "source": [
    "import numpy as np\n",
    "import pandas as pd\n",
    "import os\n",
    "import datetime as dt\n",
    "import matplotlib.pyplot as plt\n",
    "from sklearn.preprocessing import OneHotEncoder\n",
    "from sklearn.metrics import mean_squared_error, mean_absolute_error\n",
    "from sklearn.linear_model import LinearRegression, Lasso\n",
    "from sklearn.ensemble import RandomForestRegressor\n",
    "from sklearn.model_selection import KFold, GridSearchCV\n",
    "from xgboost import XGBRegressor\n",
    "import seaborn as sns\n",
    "import warnings\n",
    "warnings.filterwarnings('ignore')"
   ]
  },
  {
   "cell_type": "code",
   "execution_count": 2,
   "id": "14bae257",
   "metadata": {},
   "outputs": [],
   "source": [
    "os.chdir('/Users/taras/Documents/mrsool/')"
   ]
  },
  {
   "cell_type": "markdown",
   "id": "23a45d92",
   "metadata": {},
   "source": [
    "<h2>Read the data</h2>"
   ]
  },
  {
   "cell_type": "code",
   "execution_count": 3,
   "id": "a9a0cfaf",
   "metadata": {},
   "outputs": [],
   "source": [
    "train_data = pd.read_csv('train.csv')\n",
    "test_data = pd.read_csv('test.csv')"
   ]
  },
  {
   "cell_type": "code",
   "execution_count": 4,
   "id": "583ccde4",
   "metadata": {},
   "outputs": [
    {
     "data": {
      "text/plain": [
       "Index(['creation_datetime', 'updated_at', 'age_less_than', 'num_apartments',\n",
       "       'num_bedrooms', 'floor_num', 'num_kitchens', 'closed',\n",
       "       'commercial_or_residential', 'property_type', 'driver_room', 'duplex',\n",
       "       'family_or_single', 'furnished', 'num_living_rooms', 'maid_room',\n",
       "       'price_per_meter', 'advertiser_type', 'pool', 'paid', 'price',\n",
       "       'rent_period', 'num_rooms', 'area', 'street_direction', 'street_width',\n",
       "       'for_rent_or_sale', 'num_water_cycles', 'Latitude', 'Longitude',\n",
       "       'region_name_en', 'nearest_city_name_en', 'district_name_en'],\n",
       "      dtype='object')"
      ]
     },
     "execution_count": 4,
     "metadata": {},
     "output_type": "execute_result"
    }
   ],
   "source": [
    "train_data.columns"
   ]
  },
  {
   "cell_type": "code",
   "execution_count": 5,
   "id": "f3d423c7",
   "metadata": {},
   "outputs": [
    {
     "data": {
      "text/html": [
       "<div>\n",
       "<style scoped>\n",
       "    .dataframe tbody tr th:only-of-type {\n",
       "        vertical-align: middle;\n",
       "    }\n",
       "\n",
       "    .dataframe tbody tr th {\n",
       "        vertical-align: top;\n",
       "    }\n",
       "\n",
       "    .dataframe thead th {\n",
       "        text-align: right;\n",
       "    }\n",
       "</style>\n",
       "<table border=\"1\" class=\"dataframe\">\n",
       "  <thead>\n",
       "    <tr style=\"text-align: right;\">\n",
       "      <th></th>\n",
       "      <th>creation_datetime</th>\n",
       "      <th>updated_at</th>\n",
       "      <th>age_less_than</th>\n",
       "      <th>num_apartments</th>\n",
       "      <th>num_bedrooms</th>\n",
       "      <th>floor_num</th>\n",
       "      <th>num_kitchens</th>\n",
       "      <th>closed</th>\n",
       "      <th>commercial_or_residential</th>\n",
       "      <th>property_type</th>\n",
       "      <th>...</th>\n",
       "      <th>area</th>\n",
       "      <th>street_direction</th>\n",
       "      <th>street_width</th>\n",
       "      <th>for_rent_or_sale</th>\n",
       "      <th>num_water_cycles</th>\n",
       "      <th>Latitude</th>\n",
       "      <th>Longitude</th>\n",
       "      <th>region_name_en</th>\n",
       "      <th>nearest_city_name_en</th>\n",
       "      <th>district_name_en</th>\n",
       "    </tr>\n",
       "  </thead>\n",
       "  <tbody>\n",
       "    <tr>\n",
       "      <th>0</th>\n",
       "      <td>2016-03-04 13:49:48</td>\n",
       "      <td>2016-06-02 07:07:34</td>\n",
       "      <td>0</td>\n",
       "      <td>1</td>\n",
       "      <td>4</td>\n",
       "      <td>0</td>\n",
       "      <td>1</td>\n",
       "      <td>مغلق</td>\n",
       "      <td>غير محدد</td>\n",
       "      <td>فيلا</td>\n",
       "      <td>...</td>\n",
       "      <td>297</td>\n",
       "      <td>شمال</td>\n",
       "      <td>15</td>\n",
       "      <td>للبيع</td>\n",
       "      <td>5</td>\n",
       "      <td>24.8402</td>\n",
       "      <td>46.7528</td>\n",
       "      <td>Riyadh</td>\n",
       "      <td>AR RIYADH</td>\n",
       "      <td>Al Munsiyah</td>\n",
       "    </tr>\n",
       "    <tr>\n",
       "      <th>1</th>\n",
       "      <td>2016-02-21 23:35:44</td>\n",
       "      <td>2016-02-25 12:19:14</td>\n",
       "      <td>0</td>\n",
       "      <td>0</td>\n",
       "      <td>0</td>\n",
       "      <td>0</td>\n",
       "      <td>0</td>\n",
       "      <td>مغلق</td>\n",
       "      <td>سكني</td>\n",
       "      <td>أرض</td>\n",
       "      <td>...</td>\n",
       "      <td>450</td>\n",
       "      <td>شمال</td>\n",
       "      <td>20</td>\n",
       "      <td>للبيع</td>\n",
       "      <td>0</td>\n",
       "      <td>24.6175</td>\n",
       "      <td>46.5280</td>\n",
       "      <td>Riyadh</td>\n",
       "      <td>UBAYR</td>\n",
       "      <td>Dhahrat Laban</td>\n",
       "    </tr>\n",
       "    <tr>\n",
       "      <th>2</th>\n",
       "      <td>2016-01-05 21:26:47</td>\n",
       "      <td>2016-03-05 18:25:43</td>\n",
       "      <td>0</td>\n",
       "      <td>0</td>\n",
       "      <td>5</td>\n",
       "      <td>0</td>\n",
       "      <td>1</td>\n",
       "      <td>مغلق</td>\n",
       "      <td>غير محدد</td>\n",
       "      <td>فيلا</td>\n",
       "      <td>...</td>\n",
       "      <td>750</td>\n",
       "      <td>شرق</td>\n",
       "      <td>20</td>\n",
       "      <td>للبيع</td>\n",
       "      <td>5</td>\n",
       "      <td>24.8131</td>\n",
       "      <td>46.5991</td>\n",
       "      <td>Riyadh</td>\n",
       "      <td>AL WUSAYL</td>\n",
       "      <td>Al Malqa</td>\n",
       "    </tr>\n",
       "    <tr>\n",
       "      <th>3</th>\n",
       "      <td>2016-02-04 09:29:46</td>\n",
       "      <td>2016-02-04 09:29:58</td>\n",
       "      <td>0</td>\n",
       "      <td>0</td>\n",
       "      <td>1</td>\n",
       "      <td>0</td>\n",
       "      <td>1</td>\n",
       "      <td>مغلق</td>\n",
       "      <td>غير محدد</td>\n",
       "      <td>فيلا</td>\n",
       "      <td>...</td>\n",
       "      <td>500</td>\n",
       "      <td>شمال</td>\n",
       "      <td>5</td>\n",
       "      <td>للبيع</td>\n",
       "      <td>1</td>\n",
       "      <td>24.6738</td>\n",
       "      <td>46.7369</td>\n",
       "      <td>Riyadh</td>\n",
       "      <td>AR RIYADH</td>\n",
       "      <td>Al Malaz</td>\n",
       "    </tr>\n",
       "    <tr>\n",
       "      <th>4</th>\n",
       "      <td>2016-03-28 13:22:12</td>\n",
       "      <td>2016-05-31 16:37:40</td>\n",
       "      <td>4</td>\n",
       "      <td>0</td>\n",
       "      <td>3</td>\n",
       "      <td>2</td>\n",
       "      <td>1</td>\n",
       "      <td>مغلق</td>\n",
       "      <td>غير محدد</td>\n",
       "      <td>شقة</td>\n",
       "      <td>...</td>\n",
       "      <td>0</td>\n",
       "      <td>شمال غربي</td>\n",
       "      <td>35</td>\n",
       "      <td>للإيجار</td>\n",
       "      <td>3</td>\n",
       "      <td>24.8279</td>\n",
       "      <td>46.6451</td>\n",
       "      <td>Riyadh</td>\n",
       "      <td>AD DIR'IYAH</td>\n",
       "      <td>Al Yasmin</td>\n",
       "    </tr>\n",
       "  </tbody>\n",
       "</table>\n",
       "<p>5 rows × 33 columns</p>\n",
       "</div>"
      ],
      "text/plain": [
       "     creation_datetime           updated_at  age_less_than  num_apartments  \\\n",
       "0  2016-03-04 13:49:48  2016-06-02 07:07:34              0               1   \n",
       "1  2016-02-21 23:35:44  2016-02-25 12:19:14              0               0   \n",
       "2  2016-01-05 21:26:47  2016-03-05 18:25:43              0               0   \n",
       "3  2016-02-04 09:29:46  2016-02-04 09:29:58              0               0   \n",
       "4  2016-03-28 13:22:12  2016-05-31 16:37:40              4               0   \n",
       "\n",
       "   num_bedrooms  floor_num  num_kitchens closed commercial_or_residential  \\\n",
       "0             4          0             1   مغلق                  غير محدد   \n",
       "1             0          0             0   مغلق                      سكني   \n",
       "2             5          0             1   مغلق                  غير محدد   \n",
       "3             1          0             1   مغلق                  غير محدد   \n",
       "4             3          2             1   مغلق                  غير محدد   \n",
       "\n",
       "  property_type  ... area street_direction street_width for_rent_or_sale  \\\n",
       "0          فيلا  ...  297             شمال           15            للبيع   \n",
       "1           أرض  ...  450             شمال           20            للبيع   \n",
       "2          فيلا  ...  750              شرق           20            للبيع   \n",
       "3          فيلا  ...  500             شمال            5            للبيع   \n",
       "4           شقة  ...    0        شمال غربي           35          للإيجار   \n",
       "\n",
       "   num_water_cycles Latitude  Longitude region_name_en nearest_city_name_en  \\\n",
       "0                 5  24.8402    46.7528         Riyadh            AR RIYADH   \n",
       "1                 0  24.6175    46.5280         Riyadh                UBAYR   \n",
       "2                 5  24.8131    46.5991         Riyadh            AL WUSAYL   \n",
       "3                 1  24.6738    46.7369         Riyadh            AR RIYADH   \n",
       "4                 3  24.8279    46.6451         Riyadh          AD DIR'IYAH   \n",
       "\n",
       "  district_name_en  \n",
       "0      Al Munsiyah  \n",
       "1    Dhahrat Laban  \n",
       "2         Al Malqa  \n",
       "3         Al Malaz  \n",
       "4        Al Yasmin  \n",
       "\n",
       "[5 rows x 33 columns]"
      ]
     },
     "execution_count": 5,
     "metadata": {},
     "output_type": "execute_result"
    }
   ],
   "source": [
    "train_data.head()"
   ]
  },
  {
   "cell_type": "markdown",
   "id": "16afcc9f",
   "metadata": {},
   "source": [
    "<h2>Inappropriate data removal</h2>"
   ]
  },
  {
   "cell_type": "code",
   "execution_count": 6,
   "id": "0777fc59",
   "metadata": {},
   "outputs": [
    {
     "data": {
      "text/plain": [
       " 0     59713\n",
       " 1      9573\n",
       " 2      7007\n",
       " 3      3390\n",
       " 4       136\n",
       " 5        40\n",
       " 20       22\n",
       " 10       21\n",
       " 6        16\n",
       " 8        12\n",
       " 7        10\n",
       " 12        9\n",
       " 9         7\n",
       " 15        5\n",
       " 17        3\n",
       "-1         3\n",
       " 14        2\n",
       " 16        2\n",
       " 13        2\n",
       " 11        1\n",
       " 18        1\n",
       "Name: floor_num, dtype: int64"
      ]
     },
     "execution_count": 6,
     "metadata": {},
     "output_type": "execute_result"
    }
   ],
   "source": [
    "train_data['floor_num'].value_counts()"
   ]
  },
  {
   "cell_type": "code",
   "execution_count": 7,
   "id": "acd1f37e",
   "metadata": {},
   "outputs": [
    {
     "data": {
      "text/html": [
       "<div>\n",
       "<style scoped>\n",
       "    .dataframe tbody tr th:only-of-type {\n",
       "        vertical-align: middle;\n",
       "    }\n",
       "\n",
       "    .dataframe tbody tr th {\n",
       "        vertical-align: top;\n",
       "    }\n",
       "\n",
       "    .dataframe thead th {\n",
       "        text-align: right;\n",
       "    }\n",
       "</style>\n",
       "<table border=\"1\" class=\"dataframe\">\n",
       "  <thead>\n",
       "    <tr style=\"text-align: right;\">\n",
       "      <th></th>\n",
       "      <th>creation_datetime</th>\n",
       "      <th>updated_at</th>\n",
       "      <th>age_less_than</th>\n",
       "      <th>num_apartments</th>\n",
       "      <th>num_bedrooms</th>\n",
       "      <th>floor_num</th>\n",
       "      <th>num_kitchens</th>\n",
       "      <th>closed</th>\n",
       "      <th>commercial_or_residential</th>\n",
       "      <th>property_type</th>\n",
       "      <th>...</th>\n",
       "      <th>area</th>\n",
       "      <th>street_direction</th>\n",
       "      <th>street_width</th>\n",
       "      <th>for_rent_or_sale</th>\n",
       "      <th>num_water_cycles</th>\n",
       "      <th>Latitude</th>\n",
       "      <th>Longitude</th>\n",
       "      <th>region_name_en</th>\n",
       "      <th>nearest_city_name_en</th>\n",
       "      <th>district_name_en</th>\n",
       "    </tr>\n",
       "  </thead>\n",
       "  <tbody>\n",
       "    <tr>\n",
       "      <th>9602</th>\n",
       "      <td>2015-05-12 20:00:19</td>\n",
       "      <td>2015-05-14 08:38:18</td>\n",
       "      <td>2</td>\n",
       "      <td>0</td>\n",
       "      <td>0</td>\n",
       "      <td>-1</td>\n",
       "      <td>0</td>\n",
       "      <td>مغلق</td>\n",
       "      <td>غير محدد</td>\n",
       "      <td>مكتب تجاري</td>\n",
       "      <td>...</td>\n",
       "      <td>555</td>\n",
       "      <td>شرق</td>\n",
       "      <td>30</td>\n",
       "      <td>للإيجار</td>\n",
       "      <td>0</td>\n",
       "      <td>24.7252</td>\n",
       "      <td>46.8225</td>\n",
       "      <td>Riyadh</td>\n",
       "      <td>AR RIYADH</td>\n",
       "      <td>An Nasim Al Gharbi</td>\n",
       "    </tr>\n",
       "    <tr>\n",
       "      <th>42351</th>\n",
       "      <td>2015-05-12 19:58:43</td>\n",
       "      <td>2015-05-14 08:38:26</td>\n",
       "      <td>-1</td>\n",
       "      <td>0</td>\n",
       "      <td>0</td>\n",
       "      <td>-1</td>\n",
       "      <td>0</td>\n",
       "      <td>مغلق</td>\n",
       "      <td>سكني</td>\n",
       "      <td>أرض</td>\n",
       "      <td>...</td>\n",
       "      <td>255</td>\n",
       "      <td>شمال</td>\n",
       "      <td>0</td>\n",
       "      <td>للبيع</td>\n",
       "      <td>0</td>\n",
       "      <td>24.7252</td>\n",
       "      <td>46.8225</td>\n",
       "      <td>Riyadh</td>\n",
       "      <td>AR RIYADH</td>\n",
       "      <td>An Nasim Al Gharbi</td>\n",
       "    </tr>\n",
       "    <tr>\n",
       "      <th>56672</th>\n",
       "      <td>2015-04-29 16:51:01</td>\n",
       "      <td>2015-04-29 16:51:01</td>\n",
       "      <td>-1</td>\n",
       "      <td>0</td>\n",
       "      <td>3</td>\n",
       "      <td>-1</td>\n",
       "      <td>3</td>\n",
       "      <td>مغلق</td>\n",
       "      <td>غير محدد</td>\n",
       "      <td>استراحة</td>\n",
       "      <td>...</td>\n",
       "      <td>555</td>\n",
       "      <td>غير محدد</td>\n",
       "      <td>0</td>\n",
       "      <td>للإيجار</td>\n",
       "      <td>3</td>\n",
       "      <td>24.6970</td>\n",
       "      <td>46.8453</td>\n",
       "      <td>Riyadh</td>\n",
       "      <td>AR RIYADH</td>\n",
       "      <td>As Saadah</td>\n",
       "    </tr>\n",
       "  </tbody>\n",
       "</table>\n",
       "<p>3 rows × 33 columns</p>\n",
       "</div>"
      ],
      "text/plain": [
       "         creation_datetime           updated_at  age_less_than  \\\n",
       "9602   2015-05-12 20:00:19  2015-05-14 08:38:18              2   \n",
       "42351  2015-05-12 19:58:43  2015-05-14 08:38:26             -1   \n",
       "56672  2015-04-29 16:51:01  2015-04-29 16:51:01             -1   \n",
       "\n",
       "       num_apartments  num_bedrooms  floor_num  num_kitchens closed  \\\n",
       "9602                0             0         -1             0   مغلق   \n",
       "42351               0             0         -1             0   مغلق   \n",
       "56672               0             3         -1             3   مغلق   \n",
       "\n",
       "      commercial_or_residential property_type  ... area street_direction  \\\n",
       "9602                   غير محدد    مكتب تجاري  ...  555              شرق   \n",
       "42351                      سكني           أرض  ...  255             شمال   \n",
       "56672                  غير محدد       استراحة  ...  555         غير محدد   \n",
       "\n",
       "      street_width for_rent_or_sale  num_water_cycles Latitude  Longitude  \\\n",
       "9602            30          للإيجار                 0  24.7252    46.8225   \n",
       "42351            0            للبيع                 0  24.7252    46.8225   \n",
       "56672            0          للإيجار                 3  24.6970    46.8453   \n",
       "\n",
       "      region_name_en nearest_city_name_en    district_name_en  \n",
       "9602          Riyadh            AR RIYADH  An Nasim Al Gharbi  \n",
       "42351         Riyadh            AR RIYADH  An Nasim Al Gharbi  \n",
       "56672         Riyadh            AR RIYADH           As Saadah  \n",
       "\n",
       "[3 rows x 33 columns]"
      ]
     },
     "execution_count": 7,
     "metadata": {},
     "output_type": "execute_result"
    }
   ],
   "source": [
    "train_data.loc[train_data['floor_num'] == -1]"
   ]
  },
  {
   "cell_type": "markdown",
   "id": "07fa87c4",
   "metadata": {},
   "source": [
    "<p>Looks like there are 3 records with very strange data. As it's a small amount and all of them are closed we can remove them.</p>"
   ]
  },
  {
   "cell_type": "code",
   "execution_count": 8,
   "id": "d696cd1c",
   "metadata": {},
   "outputs": [],
   "source": [
    "train_data = train_data.loc[train_data['floor_num'] != -1]\n",
    "test_data = test_data.loc[test_data['floor_num'] != -1]"
   ]
  },
  {
   "cell_type": "markdown",
   "id": "a5518c66",
   "metadata": {},
   "source": [
    "<h2>Process data</h2>\n",
    "\n",
    "<p>Convert strings to datetimes.</p>\n",
    "<p>Make variableas binary.</p>\n",
    "<p>Translate Arabic to English.</p>"
   ]
  },
  {
   "cell_type": "code",
   "execution_count": 9,
   "id": "42ee5497",
   "metadata": {},
   "outputs": [],
   "source": [
    "duplex_vals = {\n",
    "    \"ليست دوبلكس\" : 0,\n",
    "    \"دوبلكس\": 1,\n",
    "}\n",
    "\n",
    "closed_vals = {\n",
    "    \"مغلق\" : 'closed',\n",
    "    \"متاح\": 'open',\n",
    "    \"غير منشور\": 'not published',\n",
    "}\n",
    "\n",
    "com_res_vals = {\n",
    "    \"غير محدد\" : 'undefined',\n",
    "    \"سكني\": 'residental',\n",
    "    \"تجاري\": 'commercial',\n",
    "    \"كلاهما\": 'both',\n",
    "    \"4\": 'undefined',\n",
    "    \"5\": 'undefined',\n",
    "    \"6\": 'undefined',\n",
    "    \"7\": 'undefined',\n",
    "}\n",
    "\n",
    "property_vals = {\n",
    "    \"فيلا\" : 'villa',\n",
    "    \"شقة\": 'appartment',\n",
    "    \"أرض\": 'land',\n",
    "    \"عمارة\": 'architecture',\n",
    "    \"دور\": 'floor',\n",
    "    \"استراحة\": 'lounge',\n",
    "    \"محل\": 'shop',\n",
    "    \"بيت\": 'house',\n",
    "    \"مكتب تجاري\": 'commercial office',\n",
    "    \"مستودع\": 'storehouse',\n",
    "    \"مزرعة\": 'farm',\n",
    "    \"مخيم\": 'camp',\n",
    "    \"قصر\": 'castle',\n",
    "    \"غرفة\": 'appartment',\n",
    "}\n",
    "\n",
    "driver_vals = {\n",
    "    \"لا يوجد غرفة سائق\" : 0,\n",
    "    \"غرفة سائق\": 1,\n",
    "}\n",
    "\n",
    "family_vals = {\n",
    "    \"عزاب\" : 0,\n",
    "    \"عوائل\": 1,\n",
    "}\n",
    "\n",
    "furnished_vals = {\n",
    "    \"لا يوجد اثاث\" : 0,\n",
    "    \"مؤثثة\": 1,\n",
    "}\n",
    "\n",
    "maid_room_vals = {\n",
    "    \"لا يوجد غرفة خادمة\" : 0,\n",
    "    \"غرفة خادمة\": 1,\n",
    "}\n",
    "\n",
    "market_vals = {\n",
    "    \"مالك\" : 0,\n",
    "    \"مسوق\" : 1,\n",
    "}\n",
    "\n",
    "pool_vals = {\n",
    "    \"لا يوجد مسبح\" : 0,\n",
    "    \"مسبح\" : 1,\n",
    "}\n",
    "\n",
    "paid_vals = {\n",
    "    \"مجاني\" : 0,\n",
    "    \"مدفوع\" : 1,\n",
    "}\n",
    "\n",
    "rent_period_vals = {\n",
    "    \"غير محدد\" : 'undefined',\n",
    "    \"سنوي\": 'annual',\n",
    "    \"يومي\": 'daily',\n",
    "    \"شهري\": 'monthly',\n",
    "    \"4\": 'undefined',\n",
    "    \"5\": 'undefined',\n",
    "    \"6\": 'undefined',\n",
    "}\n",
    "\n",
    "street_direction_vals = {\n",
    "    \"غير محدد\" : 'undefined',\n",
    "    \"شمال\": 'north',\n",
    "    \"جنوب\": 'south',\n",
    "    \"شرق\": 'east',\n",
    "    \"غرب\": 'west',\n",
    "    \"شمال شرقي\": 'northeast',\n",
    "    \"جنوب شرقي\": 'southeast',\n",
    "    \"جنوب غربي\": 'southwest',\n",
    "    \"شمال غربي\": 'northwest',\n",
    "    \"3 شوارع\": 'undefined',\n",
    "    \"4 شوارع\": 'undefined',\n",
    "}\n",
    "\n",
    "rent_sale_vals = {\n",
    "    \"للبيع\" : 0,\n",
    "    \"للإيجار\": 1,\n",
    "}"
   ]
  },
  {
   "cell_type": "code",
   "execution_count": 10,
   "id": "67d7a049",
   "metadata": {},
   "outputs": [],
   "source": [
    "def process(df):\n",
    "    \"\"\"\n",
    "    Translate to english (or make variables binary if it is possible).\n",
    "    \"\"\"\n",
    "    for date_col in ['creation_datetime', 'updated_at']:\n",
    "        df[date_col] = pd.to_datetime(df[date_col], format='%Y-%m-%d %H:%M:%S')\n",
    "    \n",
    "    df['duplex'] = df['duplex'].map(lambda x: duplex_vals.get(x, 0))\n",
    "    df['closed'] = df['closed'].map(lambda x: closed_vals.get(x, 'closed'))\n",
    "    df['commercial_or_residential'] = df['commercial_or_residential'].map(lambda x: com_res_vals.get(x, 'undefined'))\n",
    "    df['property_type'] = df['property_type'].map(lambda x: property_vals.get(x, 'villa'))\n",
    "    df['driver_room'] = df['driver_room'].map(lambda x: driver_vals.get(x, 0))\n",
    "    df['family'] = df['family_or_single'].map(lambda x: family_vals.get(x, 0))\n",
    "    df['furnished'] = df['furnished'].map(lambda x: furnished_vals.get(x, 0))\n",
    "    df['maid_room'] = df['maid_room'].map(lambda x: maid_room_vals.get(x, 0))\n",
    "    df['is_market_adv'] = df['advertiser_type'].map(lambda x: market_vals.get(x, 1))\n",
    "    df['pool'] = df['pool'].map(lambda x: pool_vals.get(x, 0))\n",
    "    df['paid'] = df['paid'].map(lambda x: paid_vals.get(x, 0))\n",
    "    df['rent_period'] = df['rent_period'].map(lambda x: rent_period_vals.get(x, 'undefined'))\n",
    "    df['street_direction'] = df['street_direction'].map(lambda x: street_direction_vals.get(x, 'undefined'))\n",
    "    df['for_rent'] = df['for_rent_or_sale'].map(lambda x: rent_sale_vals.get(x, 0))\n",
    "\n",
    "    df.drop(columns=['family_or_single', 'advertiser_type', 'for_rent_or_sale'], inplace=True)\n",
    "    \n",
    "    return df"
   ]
  },
  {
   "cell_type": "code",
   "execution_count": 11,
   "id": "1d4e0e53",
   "metadata": {},
   "outputs": [],
   "source": [
    "train_data = process(df=train_data)\n",
    "test_data = process(df=test_data)"
   ]
  },
  {
   "cell_type": "markdown",
   "id": "1f8b01c7",
   "metadata": {},
   "source": [
    "<h2>Let's look on the data</h2>"
   ]
  },
  {
   "cell_type": "code",
   "execution_count": 12,
   "id": "fd87a367",
   "metadata": {},
   "outputs": [
    {
     "data": {
      "text/html": [
       "<div>\n",
       "<style scoped>\n",
       "    .dataframe tbody tr th:only-of-type {\n",
       "        vertical-align: middle;\n",
       "    }\n",
       "\n",
       "    .dataframe tbody tr th {\n",
       "        vertical-align: top;\n",
       "    }\n",
       "\n",
       "    .dataframe thead th {\n",
       "        text-align: right;\n",
       "    }\n",
       "</style>\n",
       "<table border=\"1\" class=\"dataframe\">\n",
       "  <thead>\n",
       "    <tr style=\"text-align: right;\">\n",
       "      <th></th>\n",
       "      <th>creation_datetime</th>\n",
       "      <th>updated_at</th>\n",
       "      <th>age_less_than</th>\n",
       "      <th>num_apartments</th>\n",
       "      <th>num_bedrooms</th>\n",
       "      <th>floor_num</th>\n",
       "      <th>num_kitchens</th>\n",
       "      <th>closed</th>\n",
       "      <th>commercial_or_residential</th>\n",
       "      <th>property_type</th>\n",
       "      <th>...</th>\n",
       "      <th>street_width</th>\n",
       "      <th>num_water_cycles</th>\n",
       "      <th>Latitude</th>\n",
       "      <th>Longitude</th>\n",
       "      <th>region_name_en</th>\n",
       "      <th>nearest_city_name_en</th>\n",
       "      <th>district_name_en</th>\n",
       "      <th>family</th>\n",
       "      <th>is_market_adv</th>\n",
       "      <th>for_rent</th>\n",
       "    </tr>\n",
       "  </thead>\n",
       "  <tbody>\n",
       "    <tr>\n",
       "      <th>0</th>\n",
       "      <td>2016-03-04 13:49:48</td>\n",
       "      <td>2016-06-02 07:07:34</td>\n",
       "      <td>0</td>\n",
       "      <td>1</td>\n",
       "      <td>4</td>\n",
       "      <td>0</td>\n",
       "      <td>1</td>\n",
       "      <td>closed</td>\n",
       "      <td>undefined</td>\n",
       "      <td>villa</td>\n",
       "      <td>...</td>\n",
       "      <td>15</td>\n",
       "      <td>5</td>\n",
       "      <td>24.8402</td>\n",
       "      <td>46.7528</td>\n",
       "      <td>Riyadh</td>\n",
       "      <td>AR RIYADH</td>\n",
       "      <td>Al Munsiyah</td>\n",
       "      <td>0</td>\n",
       "      <td>1</td>\n",
       "      <td>0</td>\n",
       "    </tr>\n",
       "    <tr>\n",
       "      <th>1</th>\n",
       "      <td>2016-02-21 23:35:44</td>\n",
       "      <td>2016-02-25 12:19:14</td>\n",
       "      <td>0</td>\n",
       "      <td>0</td>\n",
       "      <td>0</td>\n",
       "      <td>0</td>\n",
       "      <td>0</td>\n",
       "      <td>closed</td>\n",
       "      <td>residental</td>\n",
       "      <td>land</td>\n",
       "      <td>...</td>\n",
       "      <td>20</td>\n",
       "      <td>0</td>\n",
       "      <td>24.6175</td>\n",
       "      <td>46.5280</td>\n",
       "      <td>Riyadh</td>\n",
       "      <td>UBAYR</td>\n",
       "      <td>Dhahrat Laban</td>\n",
       "      <td>0</td>\n",
       "      <td>0</td>\n",
       "      <td>0</td>\n",
       "    </tr>\n",
       "    <tr>\n",
       "      <th>2</th>\n",
       "      <td>2016-01-05 21:26:47</td>\n",
       "      <td>2016-03-05 18:25:43</td>\n",
       "      <td>0</td>\n",
       "      <td>0</td>\n",
       "      <td>5</td>\n",
       "      <td>0</td>\n",
       "      <td>1</td>\n",
       "      <td>closed</td>\n",
       "      <td>undefined</td>\n",
       "      <td>villa</td>\n",
       "      <td>...</td>\n",
       "      <td>20</td>\n",
       "      <td>5</td>\n",
       "      <td>24.8131</td>\n",
       "      <td>46.5991</td>\n",
       "      <td>Riyadh</td>\n",
       "      <td>AL WUSAYL</td>\n",
       "      <td>Al Malqa</td>\n",
       "      <td>0</td>\n",
       "      <td>1</td>\n",
       "      <td>0</td>\n",
       "    </tr>\n",
       "    <tr>\n",
       "      <th>3</th>\n",
       "      <td>2016-02-04 09:29:46</td>\n",
       "      <td>2016-02-04 09:29:58</td>\n",
       "      <td>0</td>\n",
       "      <td>0</td>\n",
       "      <td>1</td>\n",
       "      <td>0</td>\n",
       "      <td>1</td>\n",
       "      <td>closed</td>\n",
       "      <td>undefined</td>\n",
       "      <td>villa</td>\n",
       "      <td>...</td>\n",
       "      <td>5</td>\n",
       "      <td>1</td>\n",
       "      <td>24.6738</td>\n",
       "      <td>46.7369</td>\n",
       "      <td>Riyadh</td>\n",
       "      <td>AR RIYADH</td>\n",
       "      <td>Al Malaz</td>\n",
       "      <td>0</td>\n",
       "      <td>1</td>\n",
       "      <td>0</td>\n",
       "    </tr>\n",
       "    <tr>\n",
       "      <th>4</th>\n",
       "      <td>2016-03-28 13:22:12</td>\n",
       "      <td>2016-05-31 16:37:40</td>\n",
       "      <td>4</td>\n",
       "      <td>0</td>\n",
       "      <td>3</td>\n",
       "      <td>2</td>\n",
       "      <td>1</td>\n",
       "      <td>closed</td>\n",
       "      <td>undefined</td>\n",
       "      <td>appartment</td>\n",
       "      <td>...</td>\n",
       "      <td>35</td>\n",
       "      <td>3</td>\n",
       "      <td>24.8279</td>\n",
       "      <td>46.6451</td>\n",
       "      <td>Riyadh</td>\n",
       "      <td>AD DIR'IYAH</td>\n",
       "      <td>Al Yasmin</td>\n",
       "      <td>1</td>\n",
       "      <td>1</td>\n",
       "      <td>1</td>\n",
       "    </tr>\n",
       "  </tbody>\n",
       "</table>\n",
       "<p>5 rows × 33 columns</p>\n",
       "</div>"
      ],
      "text/plain": [
       "    creation_datetime          updated_at  age_less_than  num_apartments  \\\n",
       "0 2016-03-04 13:49:48 2016-06-02 07:07:34              0               1   \n",
       "1 2016-02-21 23:35:44 2016-02-25 12:19:14              0               0   \n",
       "2 2016-01-05 21:26:47 2016-03-05 18:25:43              0               0   \n",
       "3 2016-02-04 09:29:46 2016-02-04 09:29:58              0               0   \n",
       "4 2016-03-28 13:22:12 2016-05-31 16:37:40              4               0   \n",
       "\n",
       "   num_bedrooms  floor_num  num_kitchens  closed commercial_or_residential  \\\n",
       "0             4          0             1  closed                 undefined   \n",
       "1             0          0             0  closed                residental   \n",
       "2             5          0             1  closed                 undefined   \n",
       "3             1          0             1  closed                 undefined   \n",
       "4             3          2             1  closed                 undefined   \n",
       "\n",
       "  property_type  ...  street_width  num_water_cycles  Latitude  Longitude  \\\n",
       "0         villa  ...            15                 5   24.8402    46.7528   \n",
       "1          land  ...            20                 0   24.6175    46.5280   \n",
       "2         villa  ...            20                 5   24.8131    46.5991   \n",
       "3         villa  ...             5                 1   24.6738    46.7369   \n",
       "4    appartment  ...            35                 3   24.8279    46.6451   \n",
       "\n",
       "   region_name_en  nearest_city_name_en  district_name_en  family  \\\n",
       "0          Riyadh             AR RIYADH       Al Munsiyah       0   \n",
       "1          Riyadh                 UBAYR     Dhahrat Laban       0   \n",
       "2          Riyadh             AL WUSAYL          Al Malqa       0   \n",
       "3          Riyadh             AR RIYADH          Al Malaz       0   \n",
       "4          Riyadh           AD DIR'IYAH         Al Yasmin       1   \n",
       "\n",
       "   is_market_adv for_rent  \n",
       "0              1        0  \n",
       "1              0        0  \n",
       "2              1        0  \n",
       "3              1        0  \n",
       "4              1        1  \n",
       "\n",
       "[5 rows x 33 columns]"
      ]
     },
     "execution_count": 12,
     "metadata": {},
     "output_type": "execute_result"
    }
   ],
   "source": [
    "train_data.head()"
   ]
  },
  {
   "cell_type": "markdown",
   "id": "84eeaabb",
   "metadata": {},
   "source": [
    "<p><b>Which propery types present in our data?</b></p>"
   ]
  },
  {
   "cell_type": "code",
   "execution_count": 13,
   "id": "b95b246b",
   "metadata": {},
   "outputs": [
    {
     "data": {
      "text/plain": [
       "villa                27345\n",
       "appartment           19731\n",
       "land                 16872\n",
       "architecture          5022\n",
       "floor                 4203\n",
       "lounge                2767\n",
       "shop                  2057\n",
       "house                  724\n",
       "commercial office      654\n",
       "storehouse             301\n",
       "farm                   239\n",
       "camp                    55\n",
       "castle                   2\n",
       "Name: property_type, dtype: int64"
      ]
     },
     "execution_count": 13,
     "metadata": {},
     "output_type": "execute_result"
    }
   ],
   "source": [
    "train_data['property_type'].value_counts()"
   ]
  },
  {
   "cell_type": "markdown",
   "id": "83bacd18",
   "metadata": {},
   "source": [
    "<p><b>Our company operates with buildings and lands (land, farm and camp). Buildings and lands have different characteristics and it should be taken into account in our analysis. Almost 80% of ads related to buildings.</b></p>"
   ]
  },
  {
   "cell_type": "markdown",
   "id": "f7453eed",
   "metadata": {},
   "source": [
    "<p><b>There are opened and closed advertisements</b></p>"
   ]
  },
  {
   "cell_type": "code",
   "execution_count": 14,
   "id": "64dfece1",
   "metadata": {},
   "outputs": [
    {
     "data": {
      "text/plain": [
       "closed           59396\n",
       "open             20570\n",
       "not published        6\n",
       "Name: closed, dtype: int64"
      ]
     },
     "execution_count": 14,
     "metadata": {},
     "output_type": "execute_result"
    }
   ],
   "source": [
    "train_data['closed'].value_counts()"
   ]
  },
  {
   "cell_type": "markdown",
   "id": "73e315f5",
   "metadata": {},
   "source": [
    "<p><b>There are only 6 non-published ads so we can handle them as opened.</b></p> "
   ]
  },
  {
   "cell_type": "code",
   "execution_count": 15,
   "id": "9c08018e",
   "metadata": {},
   "outputs": [],
   "source": [
    "def add_open_and_land_features(df):\n",
    "    df['is_land'] = df['property_type'].map(lambda x: 1 if x in ('land', 'farm', 'camp') else 0)\n",
    "    df['is_opened'] = df['closed'].map(lambda x: 0 if x == 'closed' else 1)\n",
    "    df.drop(columns=['closed'], inplace=True)\n",
    "    \n",
    "    return df"
   ]
  },
  {
   "cell_type": "code",
   "execution_count": 16,
   "id": "ccbd05f9",
   "metadata": {},
   "outputs": [],
   "source": [
    "train_data = add_open_and_land_features(df=train_data)\n",
    "test_data = add_open_and_land_features(df=test_data)"
   ]
  },
  {
   "cell_type": "code",
   "execution_count": 17,
   "id": "dfa51d69",
   "metadata": {},
   "outputs": [],
   "source": [
    "# Save data for analysis\n",
    "train_data.to_csv('data.csv', index=False)"
   ]
  },
  {
   "cell_type": "code",
   "execution_count": null,
   "id": "58287c92",
   "metadata": {},
   "outputs": [],
   "source": []
  },
  {
   "cell_type": "code",
   "execution_count": 18,
   "id": "b0d793b5",
   "metadata": {},
   "outputs": [],
   "source": [
    "# As discussed in analysis, are most popular items are villas for sale, appartments for rent and land for sale.\n",
    "# Each of them need separate models. I will make a simple model for villas for sale."
   ]
  },
  {
   "cell_type": "markdown",
   "id": "e315f6b7",
   "metadata": {},
   "source": [
    "<h2>Preprocessing</h2>"
   ]
  },
  {
   "cell_type": "code",
   "execution_count": 19,
   "id": "37b56663",
   "metadata": {},
   "outputs": [],
   "source": [
    "def preprocess(df, is_train=True):    \n",
    "    df = df.loc[df['property_type'] == 'villa']\n",
    "    df = df.loc[df['for_rent'] == 0]\n",
    "    df = df.loc[df['rent_period'] == 'undefined']\n",
    "\n",
    "    df.drop(columns=['property_type', 'for_rent'], inplace=True)\n",
    "\n",
    "    # We will use `district_name_en` as geofraphical feature, so we can remove other geo data.\n",
    "    df.drop(columns=['region_name_en', 'nearest_city_name_en', 'Latitude', 'Longitude'], inplace=True)\n",
    "\n",
    "    # Remove other non-meaningful features\n",
    "    df.drop(columns=['paid', 'is_land', 'commercial_or_residential', 'rent_period', 'is_opened', 'family',\n",
    "                             'creation_datetime', 'floor_num', 'num_rooms', 'price_per_meter'], inplace=True)\n",
    "\n",
    "    # last possible price update to take into account inflation (in reality we can calculate it precisely)\n",
    "    df['days_since_last_update'] = (df['updated_at'].max() - df['updated_at']).map(lambda x: x.days)\n",
    "    df.drop(columns=['updated_at'], inplace=True)\n",
    "\n",
    "    # Trim outliers in appartments values\n",
    "    df['num_apartments'] = df['num_apartments'].map(lambda x: x if x <= 5 else 5)\n",
    "\n",
    "    # There is strange that there are no bedrooms\n",
    "    df['num_bedrooms'] = df['num_bedrooms'].map(lambda x: x if x > 0 else 1)\n",
    "\n",
    "    # Handle outliers at area column (can be done more precisely)\n",
    "    df['area'] = df['area'].map(lambda x: x if x > 200 else 200)\n",
    "    df['area'] = df['area'].map(lambda x: x if x < 5000 else 5000)\n",
    "\n",
    "    if is_train:\n",
    "        # Remove low price values (they are likely to be dor a rent, not for sale)\n",
    "        df = df.loc[df['price'] > 500000]\n",
    "\n",
    "        # Also prices with values more then RAI 250 mln looks abnormal\n",
    "        df = df.loc[df['price'] <= 50000000]\n",
    "    \n",
    "    return df\n"
   ]
  },
  {
   "cell_type": "code",
   "execution_count": 20,
   "id": "d81c322d",
   "metadata": {},
   "outputs": [],
   "source": [
    "train_data = preprocess(df=train_data)\n",
    "test_data = preprocess(df=test_data, is_train=False)"
   ]
  },
  {
   "cell_type": "code",
   "execution_count": 21,
   "id": "0753e33e",
   "metadata": {},
   "outputs": [],
   "source": [
    "all_districts = train_data['district_name_en'].value_counts()\n",
    "keep_districts = list(all_districts.loc[all_districts > 200].index)"
   ]
  },
  {
   "cell_type": "code",
   "execution_count": 22,
   "id": "1db3f8b2",
   "metadata": {},
   "outputs": [],
   "source": [
    "# In real model it is better to group near small populated districts. But here we will handle them as other districts.\n",
    "train_data['district_name_en'] = train_data['district_name_en'].map(lambda x: x if x in keep_districts else 'other')\n",
    "test_data['district_name_en'] = test_data['district_name_en'].map(lambda x: x if x in keep_districts else 'other')"
   ]
  },
  {
   "cell_type": "code",
   "execution_count": 23,
   "id": "7f9f01b4",
   "metadata": {},
   "outputs": [
    {
     "data": {
      "text/plain": [
       "OneHotEncoder(drop='first', handle_unknown='ignore')"
      ]
     },
     "execution_count": 23,
     "metadata": {},
     "output_type": "execute_result"
    }
   ],
   "source": [
    "encoder = OneHotEncoder(drop='first', handle_unknown='ignore')\n",
    "encoder.fit(train_data[['district_name_en', 'street_direction']])"
   ]
  },
  {
   "cell_type": "code",
   "execution_count": null,
   "id": "74f520d7",
   "metadata": {},
   "outputs": [],
   "source": []
  },
  {
   "cell_type": "code",
   "execution_count": 24,
   "id": "74605cd1",
   "metadata": {},
   "outputs": [],
   "source": [
    "encodings_train = encoder.transform(train_data[['district_name_en', 'street_direction']]).toarray()\n",
    "for x in range(encodings_train.shape[1]):\n",
    "    train_data[f'encoding_{x}'] = encodings_train[:, x].astype(int)\n",
    "    \n",
    "train_data.drop(columns=['district_name_en', 'street_direction'], inplace=True)"
   ]
  },
  {
   "cell_type": "code",
   "execution_count": 25,
   "id": "08fc52f1",
   "metadata": {},
   "outputs": [],
   "source": [
    "encodings_test = encoder.transform(test_data[['district_name_en', 'street_direction']]).toarray()\n",
    "for x in range(encodings_test.shape[1]):\n",
    "    test_data[f'encoding_{x}'] = encodings_test[:, x].astype(int)\n",
    "    \n",
    "test_data.drop(columns=['district_name_en', 'street_direction'], inplace=True)"
   ]
  },
  {
   "cell_type": "code",
   "execution_count": null,
   "id": "4dc2a0de",
   "metadata": {},
   "outputs": [],
   "source": []
  },
  {
   "cell_type": "code",
   "execution_count": 26,
   "id": "88dafd99",
   "metadata": {},
   "outputs": [],
   "source": [
    "train_x = train_data.drop(columns='price')\n",
    "train_y = train_data['price']"
   ]
  },
  {
   "cell_type": "markdown",
   "id": "263071e8",
   "metadata": {},
   "source": [
    "<h2>Algorithm selection</h2>"
   ]
  },
  {
   "cell_type": "code",
   "execution_count": 27,
   "id": "e3f06a42",
   "metadata": {},
   "outputs": [],
   "source": [
    "kfold = KFold(n_splits=5, shuffle=True)\n",
    "res = pd.DataFrame()\n",
    "for train_ix, valid_ix in kfold.split(train_x):\n",
    "    train_df = train_x.iloc[train_ix]\n",
    "    train_target = train_y.iloc[train_ix]\n",
    "    valid_df = train_x.iloc[valid_ix]\n",
    "    valid_target = train_y.iloc[valid_ix]\n",
    "    \n",
    "    model = LinearRegression()\n",
    "    model.fit(train_df, train_target)\n",
    "    predictions = model.predict(valid_df)\n",
    "    \n",
    "    iter_res = pd.DataFrame(predictions)\n",
    "    iter_res.columns = ['prediction']\n",
    "    iter_res.index = valid_target.index\n",
    "    iter_res['real'] = valid_target\n",
    "    res = res.append(iter_res)"
   ]
  },
  {
   "cell_type": "code",
   "execution_count": 28,
   "id": "207e8eef",
   "metadata": {},
   "outputs": [
    {
     "data": {
      "text/plain": [
       "691318.855218209"
      ]
     },
     "execution_count": 28,
     "metadata": {},
     "output_type": "execute_result"
    }
   ],
   "source": [
    "# Linear Regression\n",
    "mean_absolute_error(iter_res['real'], iter_res['prediction'])"
   ]
  },
  {
   "cell_type": "code",
   "execution_count": 29,
   "id": "23b3be50",
   "metadata": {},
   "outputs": [],
   "source": [
    "kfold = KFold(n_splits=5, shuffle=True)\n",
    "res = pd.DataFrame()\n",
    "for train_ix, valid_ix in kfold.split(train_x):\n",
    "    train_df = train_x.iloc[train_ix]\n",
    "    train_target = train_y.iloc[train_ix]\n",
    "    valid_df = train_x.iloc[valid_ix]\n",
    "    valid_target = train_y.iloc[valid_ix]\n",
    "    \n",
    "    model = Lasso(alpha=0.1)\n",
    "    model.fit(train_df, train_target)\n",
    "    predictions = model.predict(valid_df)\n",
    "    \n",
    "    iter_res = pd.DataFrame(predictions)\n",
    "    iter_res.columns = ['prediction']\n",
    "    iter_res.index = valid_target.index\n",
    "    iter_res['real'] = valid_target\n",
    "    res = res.append(iter_res)"
   ]
  },
  {
   "cell_type": "code",
   "execution_count": 30,
   "id": "714661d3",
   "metadata": {},
   "outputs": [
    {
     "data": {
      "text/plain": [
       "713236.3592156691"
      ]
     },
     "execution_count": 30,
     "metadata": {},
     "output_type": "execute_result"
    }
   ],
   "source": [
    "# Lasso Regression\n",
    "mean_absolute_error(iter_res['real'], iter_res['prediction'])"
   ]
  },
  {
   "cell_type": "code",
   "execution_count": 31,
   "id": "aaeba085",
   "metadata": {},
   "outputs": [],
   "source": [
    "kfold = KFold(n_splits=5, shuffle=True)\n",
    "res = pd.DataFrame()\n",
    "for train_ix, valid_ix in kfold.split(train_x):\n",
    "    train_df = train_x.iloc[train_ix]\n",
    "    train_target = train_y.iloc[train_ix]\n",
    "    valid_df = train_x.iloc[valid_ix]\n",
    "    valid_target = train_y.iloc[valid_ix]\n",
    "    \n",
    "    model = RandomForestRegressor(n_estimators=100)\n",
    "    model.fit(train_df, train_target)\n",
    "    predictions = model.predict(valid_df)\n",
    "    \n",
    "    iter_res = pd.DataFrame(predictions)\n",
    "    iter_res.columns = ['prediction']\n",
    "    iter_res.index = valid_target.index\n",
    "    iter_res['real'] = valid_target\n",
    "    res = res.append(iter_res)"
   ]
  },
  {
   "cell_type": "code",
   "execution_count": 32,
   "id": "03c5cfbc",
   "metadata": {},
   "outputs": [
    {
     "data": {
      "text/plain": [
       "502010.1183576915"
      ]
     },
     "execution_count": 32,
     "metadata": {},
     "output_type": "execute_result"
    }
   ],
   "source": [
    "# RandomForest Regression\n",
    "mean_absolute_error(iter_res['real'], iter_res['prediction'])"
   ]
  },
  {
   "cell_type": "code",
   "execution_count": 33,
   "id": "c6dca862",
   "metadata": {},
   "outputs": [],
   "source": [
    "kfold = KFold(n_splits=5, shuffle=True)\n",
    "res = pd.DataFrame()\n",
    "for train_ix, valid_ix in kfold.split(train_x):\n",
    "    train_df = train_x.iloc[train_ix]\n",
    "    train_target = train_y.iloc[train_ix]\n",
    "    valid_df = train_x.iloc[valid_ix]\n",
    "    valid_target = train_y.iloc[valid_ix]\n",
    "    \n",
    "    xgb_model = XGBRegressor(\n",
    "        gamma=0,                 \n",
    "        learning_rate=0.07,\n",
    "        max_depth=8,\n",
    "        min_child_weight=1.5,\n",
    "        n_estimators=100,                                                                    \n",
    "        reg_alpha=0.75,\n",
    "        reg_lambda=0.5,\n",
    "        subsample=0.8,\n",
    "        seed=42,\n",
    "    )\n",
    "    xgb_model.fit(train_df, train_target)\n",
    "    predictions = xgb_model.predict(valid_df)\n",
    "    \n",
    "    iter_res = pd.DataFrame(predictions)\n",
    "    iter_res.columns = ['prediction']\n",
    "    iter_res.index = valid_target.index\n",
    "    iter_res['real'] = valid_target\n",
    "    res = res.append(iter_res)"
   ]
  },
  {
   "cell_type": "code",
   "execution_count": 34,
   "id": "15b0bd5a",
   "metadata": {},
   "outputs": [
    {
     "data": {
      "text/plain": [
       "523341.0801633384"
      ]
     },
     "execution_count": 34,
     "metadata": {},
     "output_type": "execute_result"
    }
   ],
   "source": [
    "# XGBoost Regression\n",
    "mean_absolute_error(iter_res['real'], iter_res['prediction'])"
   ]
  },
  {
   "cell_type": "code",
   "execution_count": 35,
   "id": "391ec7db",
   "metadata": {},
   "outputs": [],
   "source": [
    "# Looks like xgboost the best choise. Also there is sense to try catboost. The reason is that we have a lot of \n",
    "# categorical features and mentioned algorithm handle them well."
   ]
  },
  {
   "cell_type": "markdown",
   "id": "ae17bcfc",
   "metadata": {},
   "source": [
    "<h2>Parameters tuning</h2>"
   ]
  },
  {
   "cell_type": "code",
   "execution_count": 36,
   "id": "70c1998c",
   "metadata": {},
   "outputs": [],
   "source": [
    "\n",
    "\n",
    "#for tuning parameters\n",
    "#parameters_for_testing = {\n",
    "#    'gamma':[0,0.03,0.1,0.3],\n",
    "#    'min_child_weight':[1.5,6,10],\n",
    "#    'learning_rate':[0.1,0.07],\n",
    "#    'max_depth':[3,5, 8],\n",
    "#    'n_estimators':[100],\n",
    "#    'reg_alpha':[1e-5, 1e-2,  0.75],\n",
    "#    'reg_lambda':[1e-5, 1e-2, 0.45],\n",
    "#    'subsample':[0.6,0.8]  \n",
    "#}\n",
    "\n",
    "                    \n",
    "#xgb_model = XGBRegressor(learning_rate =0.1, n_estimators=100, max_depth=5,\n",
    "#     min_child_weight=1, gamma=0, subsample=0.8, colsample_bytree=0.8, nthread=6, scale_pos_weight=1, seed=27)\n",
    "\n",
    "#gsearch1 = GridSearchCV(estimator = xgb_model, param_grid = parameters_for_testing, n_jobs=6,iid=False, verbose=10,scoring='neg_mean_squared_error')\n",
    "#gsearch1.fit(train_x,train_y)\n",
    "#print (gsearch1.grid_scores_)\n",
    "#print('best params')\n",
    "#print (gsearch1.best_params_)\n",
    "#print('best score')\n",
    "#print (gsearch1.best_score_)"
   ]
  },
  {
   "cell_type": "code",
   "execution_count": null,
   "id": "5a8cd61f",
   "metadata": {},
   "outputs": [],
   "source": []
  },
  {
   "cell_type": "code",
   "execution_count": 37,
   "id": "927c0bbb",
   "metadata": {},
   "outputs": [],
   "source": [
    "kfold = KFold(n_splits=5, shuffle=True)\n",
    "res = pd.DataFrame()\n",
    "for train_ix, valid_ix in kfold.split(train_x):\n",
    "    train_df = train_x.iloc[train_ix]\n",
    "    train_target = train_y.iloc[train_ix]\n",
    "    valid_df = train_x.iloc[valid_ix]\n",
    "    valid_target = train_y.iloc[valid_ix]\n",
    "    \n",
    "    xgb_model = XGBRegressor(gamma=0,                 \n",
    "        learning_rate=0.07,\n",
    "        max_depth=8,\n",
    "        min_child_weight=1.5,\n",
    "        n_estimators=1000,                                                                    \n",
    "        reg_alpha=0.75,\n",
    "        reg_lambda=0.45,\n",
    "        subsample=0.8,\n",
    "        seed=42,\n",
    "    )\n",
    "    xgb_model.fit(train_df, train_target)\n",
    "    predictions = xgb_model.predict(valid_df)\n",
    "    \n",
    "    iter_res = pd.DataFrame(predictions)\n",
    "    iter_res.columns = ['prediction']\n",
    "    iter_res.index = valid_target.index\n",
    "    iter_res['real'] = valid_target\n",
    "    res = res.append(iter_res)\n",
    "    "
   ]
  },
  {
   "cell_type": "code",
   "execution_count": 38,
   "id": "1690facb",
   "metadata": {},
   "outputs": [
    {
     "data": {
      "text/plain": [
       "567975.985853728"
      ]
     },
     "execution_count": 38,
     "metadata": {},
     "output_type": "execute_result"
    }
   ],
   "source": [
    "mean_absolute_error(iter_res['real'], iter_res['prediction'])"
   ]
  },
  {
   "cell_type": "code",
   "execution_count": 39,
   "id": "1ff08971",
   "metadata": {},
   "outputs": [
    {
     "data": {
      "text/plain": [
       "0.6309933706442425"
      ]
     },
     "execution_count": 39,
     "metadata": {},
     "output_type": "execute_result"
    }
   ],
   "source": [
    "from sklearn.metrics import r2_score\n",
    "r2_score(iter_res['real'], iter_res['prediction'])"
   ]
  },
  {
   "cell_type": "code",
   "execution_count": 40,
   "id": "45368618",
   "metadata": {},
   "outputs": [
    {
     "data": {
      "image/png": "[encoded data removed]",
      "text/plain": [
       "<Figure size 1800x1200 with 1 Axes>"
      ]
     },
     "metadata": {
      "needs_background": "light"
     },
     "output_type": "display_data"
    }
   ],
   "source": [
    "fig = plt.figure(dpi=300)\n",
    "ax = fig.add_subplot(1, 1, 1)\n",
    "ax.scatter(iter_res['real'], iter_res['prediction'], s=2)\n",
    "ax.set_xscale('log')\n",
    "ax.set_yscale('log')\n",
    "ax.set_xlabel('real')\n",
    "ax.set_ylabel('predicted')\n",
    "fig.show()"
   ]
  },
  {
   "cell_type": "markdown",
   "id": "29192588",
   "metadata": {},
   "source": [
    "<p><b>There is a group of outliers below the main trend. Looks like their price is enormous. We need deeper investigation to get whether we should remove them. In case this data is really incorrect then we should reeducate model without such data.</b></p>"
   ]
  },
  {
   "cell_type": "code",
   "execution_count": 41,
   "id": "54131ecc",
   "metadata": {},
   "outputs": [
    {
     "data": {
      "text/plain": [
       "XGBRegressor(base_score=0.5, booster='gbtree', colsample_bylevel=1,\n",
       "             colsample_bynode=1, colsample_bytree=1, gamma=0, gpu_id=-1,\n",
       "             importance_type='gain', interaction_constraints='',\n",
       "             learning_rate=0.07, max_delta_step=0, max_depth=8,\n",
       "             min_child_weight=1.5, missing=nan, monotone_constraints='()',\n",
       "             n_estimators=100, n_jobs=16, num_parallel_tree=1, random_state=42,\n",
       "             reg_alpha=0.75, reg_lambda=0.45, scale_pos_weight=1, seed=42,\n",
       "             subsample=0.8, tree_method='exact', validate_parameters=1,\n",
       "             verbosity=None)"
      ]
     },
     "execution_count": 41,
     "metadata": {},
     "output_type": "execute_result"
    }
   ],
   "source": [
    "best_xgb_model = XGBRegressor(gamma=0,                 \n",
    "                 learning_rate=0.07,\n",
    "                 max_depth=8,\n",
    "                 min_child_weight=1.5,\n",
    "                 n_estimators=100,                                                                    \n",
    "                 reg_alpha=0.75,\n",
    "                 reg_lambda=0.45,\n",
    "                 subsample=0.8,\n",
    "                 seed=42)\n",
    "best_xgb_model.fit(train_x, train_y)"
   ]
  },
  {
   "cell_type": "code",
   "execution_count": 42,
   "id": "c2d16370",
   "metadata": {},
   "outputs": [],
   "source": [
    "predicted_prices = best_xgb_model.predict(test_data)"
   ]
  },
  {
   "cell_type": "code",
   "execution_count": null,
   "id": "da8ca3c3",
   "metadata": {},
   "outputs": [],
   "source": []
  },
  {
   "cell_type": "code",
   "execution_count": null,
   "id": "3846fd13",
   "metadata": {},
   "outputs": [],
   "source": []
  },
  {
   "cell_type": "code",
   "execution_count": null,
   "id": "41746161",
   "metadata": {},
   "outputs": [],
   "source": []
  },
  {
   "cell_type": "code",
   "execution_count": null,
   "id": "b897df10",
   "metadata": {},
   "outputs": [],
   "source": []
  },
  {
   "cell_type": "code",
   "execution_count": null,
   "id": "7e3ad160",
   "metadata": {},
   "outputs": [],
   "source": []
  },
  {
   "cell_type": "code",
   "execution_count": null,
   "id": "06b284ef",
   "metadata": {},
   "outputs": [],
   "source": []
  },
  {
   "cell_type": "code",
   "execution_count": null,
   "id": "758644e7",
   "metadata": {},
   "outputs": [],
   "source": []
  },
  {
   "cell_type": "code",
   "execution_count": null,
   "id": "32a225a0",
   "metadata": {},
   "outputs": [],
   "source": []
  },
  {
   "cell_type": "code",
   "execution_count": null,
   "id": "e969455b",
   "metadata": {},
   "outputs": [],
   "source": []
  },
  {
   "cell_type": "code",
   "execution_count": null,
   "id": "fdb3ccf7",
   "metadata": {},
   "outputs": [],
   "source": []
  },
  {
   "cell_type": "code",
   "execution_count": null,
   "id": "ee624c2d",
   "metadata": {},
   "outputs": [],
   "source": []
  }
 ],
 "metadata": {
  "kernelspec": {
   "display_name": "Python 3",
   "language": "python",
   "name": "python3"
  },
  "language_info": {
   "codemirror_mode": {
    "name": "ipython",
    "version": 3
   },
   "file_extension": ".py",
   "mimetype": "text/x-python",
   "name": "python",
   "nbconvert_exporter": "python",
   "pygments_lexer": "ipython3",
   "version": "3.8.8"
  }
 },
 "nbformat": 4,
 "nbformat_minor": 5
}
